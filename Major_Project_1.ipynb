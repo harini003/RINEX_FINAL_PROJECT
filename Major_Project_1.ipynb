{
  "nbformat": 4,
  "nbformat_minor": 0,
  "metadata": {
    "colab": {
      "name": "Major_Project_1.ipynb",
      "provenance": [],
      "collapsed_sections": [],
      "authorship_tag": "ABX9TyPrUCSapKwJdKi4KKgFtZgz",
      "include_colab_link": true
    },
    "kernelspec": {
      "name": "python3",
      "display_name": "Python 3"
    },
    "language_info": {
      "name": "python"
    }
  },
  "cells": [
    {
      "cell_type": "markdown",
      "metadata": {
        "id": "view-in-github",
        "colab_type": "text"
      },
      "source": [
        "<a href=\"https://colab.research.google.com/github/harini003/RINEX_FINAL_PROJECT/blob/main/Major_Project_1.ipynb\" target=\"_parent\"><img src=\"https://colab.research.google.com/assets/colab-badge.svg\" alt=\"Open In Colab\"/></a>"
      ]
    },
    {
      "cell_type": "code",
      "source": [
        "#Milk quality analysis"
      ],
      "metadata": {
        "id": "kEbPYTvhQ_Y-"
      },
      "execution_count": 100,
      "outputs": []
    },
    {
      "cell_type": "code",
      "execution_count": 88,
      "metadata": {
        "colab": {
          "base_uri": "https://localhost:8080/",
          "height": 424
        },
        "id": "pNx7M0YLLMPi",
        "outputId": "63401d2d-8d33-47a2-b12c-6dc8b06657d9"
      },
      "outputs": [
        {
          "output_type": "execute_result",
          "data": {
            "text/plain": [
              "       pH  Temprature  Taste  Odor  Fat   Turbidity  Colour   Grade\n",
              "0     6.6          35      1     0     1          0     254    high\n",
              "1     6.6          36      0     1     0          1     253    high\n",
              "2     8.5          70      1     1     1          1     246     low\n",
              "3     9.5          34      1     1     0          1     255     low\n",
              "4     6.6          37      0     0     0          0     255  medium\n",
              "...   ...         ...    ...   ...   ...        ...     ...     ...\n",
              "1054  6.7          45      1     1     0          0     247  medium\n",
              "1055  6.7          38      1     0     1          0     255    high\n",
              "1056  3.0          40      1     1     1          1     255     low\n",
              "1057  6.8          43      1     0     1          0     250    high\n",
              "1058  8.6          55      0     1     1          1     255     low\n",
              "\n",
              "[1059 rows x 8 columns]"
            ],
            "text/html": [
              "\n",
              "  <div id=\"df-ac2de351-23d1-456a-8781-33e333871555\">\n",
              "    <div class=\"colab-df-container\">\n",
              "      <div>\n",
              "<style scoped>\n",
              "    .dataframe tbody tr th:only-of-type {\n",
              "        vertical-align: middle;\n",
              "    }\n",
              "\n",
              "    .dataframe tbody tr th {\n",
              "        vertical-align: top;\n",
              "    }\n",
              "\n",
              "    .dataframe thead th {\n",
              "        text-align: right;\n",
              "    }\n",
              "</style>\n",
              "<table border=\"1\" class=\"dataframe\">\n",
              "  <thead>\n",
              "    <tr style=\"text-align: right;\">\n",
              "      <th></th>\n",
              "      <th>pH</th>\n",
              "      <th>Temprature</th>\n",
              "      <th>Taste</th>\n",
              "      <th>Odor</th>\n",
              "      <th>Fat</th>\n",
              "      <th>Turbidity</th>\n",
              "      <th>Colour</th>\n",
              "      <th>Grade</th>\n",
              "    </tr>\n",
              "  </thead>\n",
              "  <tbody>\n",
              "    <tr>\n",
              "      <th>0</th>\n",
              "      <td>6.6</td>\n",
              "      <td>35</td>\n",
              "      <td>1</td>\n",
              "      <td>0</td>\n",
              "      <td>1</td>\n",
              "      <td>0</td>\n",
              "      <td>254</td>\n",
              "      <td>high</td>\n",
              "    </tr>\n",
              "    <tr>\n",
              "      <th>1</th>\n",
              "      <td>6.6</td>\n",
              "      <td>36</td>\n",
              "      <td>0</td>\n",
              "      <td>1</td>\n",
              "      <td>0</td>\n",
              "      <td>1</td>\n",
              "      <td>253</td>\n",
              "      <td>high</td>\n",
              "    </tr>\n",
              "    <tr>\n",
              "      <th>2</th>\n",
              "      <td>8.5</td>\n",
              "      <td>70</td>\n",
              "      <td>1</td>\n",
              "      <td>1</td>\n",
              "      <td>1</td>\n",
              "      <td>1</td>\n",
              "      <td>246</td>\n",
              "      <td>low</td>\n",
              "    </tr>\n",
              "    <tr>\n",
              "      <th>3</th>\n",
              "      <td>9.5</td>\n",
              "      <td>34</td>\n",
              "      <td>1</td>\n",
              "      <td>1</td>\n",
              "      <td>0</td>\n",
              "      <td>1</td>\n",
              "      <td>255</td>\n",
              "      <td>low</td>\n",
              "    </tr>\n",
              "    <tr>\n",
              "      <th>4</th>\n",
              "      <td>6.6</td>\n",
              "      <td>37</td>\n",
              "      <td>0</td>\n",
              "      <td>0</td>\n",
              "      <td>0</td>\n",
              "      <td>0</td>\n",
              "      <td>255</td>\n",
              "      <td>medium</td>\n",
              "    </tr>\n",
              "    <tr>\n",
              "      <th>...</th>\n",
              "      <td>...</td>\n",
              "      <td>...</td>\n",
              "      <td>...</td>\n",
              "      <td>...</td>\n",
              "      <td>...</td>\n",
              "      <td>...</td>\n",
              "      <td>...</td>\n",
              "      <td>...</td>\n",
              "    </tr>\n",
              "    <tr>\n",
              "      <th>1054</th>\n",
              "      <td>6.7</td>\n",
              "      <td>45</td>\n",
              "      <td>1</td>\n",
              "      <td>1</td>\n",
              "      <td>0</td>\n",
              "      <td>0</td>\n",
              "      <td>247</td>\n",
              "      <td>medium</td>\n",
              "    </tr>\n",
              "    <tr>\n",
              "      <th>1055</th>\n",
              "      <td>6.7</td>\n",
              "      <td>38</td>\n",
              "      <td>1</td>\n",
              "      <td>0</td>\n",
              "      <td>1</td>\n",
              "      <td>0</td>\n",
              "      <td>255</td>\n",
              "      <td>high</td>\n",
              "    </tr>\n",
              "    <tr>\n",
              "      <th>1056</th>\n",
              "      <td>3.0</td>\n",
              "      <td>40</td>\n",
              "      <td>1</td>\n",
              "      <td>1</td>\n",
              "      <td>1</td>\n",
              "      <td>1</td>\n",
              "      <td>255</td>\n",
              "      <td>low</td>\n",
              "    </tr>\n",
              "    <tr>\n",
              "      <th>1057</th>\n",
              "      <td>6.8</td>\n",
              "      <td>43</td>\n",
              "      <td>1</td>\n",
              "      <td>0</td>\n",
              "      <td>1</td>\n",
              "      <td>0</td>\n",
              "      <td>250</td>\n",
              "      <td>high</td>\n",
              "    </tr>\n",
              "    <tr>\n",
              "      <th>1058</th>\n",
              "      <td>8.6</td>\n",
              "      <td>55</td>\n",
              "      <td>0</td>\n",
              "      <td>1</td>\n",
              "      <td>1</td>\n",
              "      <td>1</td>\n",
              "      <td>255</td>\n",
              "      <td>low</td>\n",
              "    </tr>\n",
              "  </tbody>\n",
              "</table>\n",
              "<p>1059 rows × 8 columns</p>\n",
              "</div>\n",
              "      <button class=\"colab-df-convert\" onclick=\"convertToInteractive('df-ac2de351-23d1-456a-8781-33e333871555')\"\n",
              "              title=\"Convert this dataframe to an interactive table.\"\n",
              "              style=\"display:none;\">\n",
              "        \n",
              "  <svg xmlns=\"http://www.w3.org/2000/svg\" height=\"24px\"viewBox=\"0 0 24 24\"\n",
              "       width=\"24px\">\n",
              "    <path d=\"M0 0h24v24H0V0z\" fill=\"none\"/>\n",
              "    <path d=\"M18.56 5.44l.94 2.06.94-2.06 2.06-.94-2.06-.94-.94-2.06-.94 2.06-2.06.94zm-11 1L8.5 8.5l.94-2.06 2.06-.94-2.06-.94L8.5 2.5l-.94 2.06-2.06.94zm10 10l.94 2.06.94-2.06 2.06-.94-2.06-.94-.94-2.06-.94 2.06-2.06.94z\"/><path d=\"M17.41 7.96l-1.37-1.37c-.4-.4-.92-.59-1.43-.59-.52 0-1.04.2-1.43.59L10.3 9.45l-7.72 7.72c-.78.78-.78 2.05 0 2.83L4 21.41c.39.39.9.59 1.41.59.51 0 1.02-.2 1.41-.59l7.78-7.78 2.81-2.81c.8-.78.8-2.07 0-2.86zM5.41 20L4 18.59l7.72-7.72 1.47 1.35L5.41 20z\"/>\n",
              "  </svg>\n",
              "      </button>\n",
              "      \n",
              "  <style>\n",
              "    .colab-df-container {\n",
              "      display:flex;\n",
              "      flex-wrap:wrap;\n",
              "      gap: 12px;\n",
              "    }\n",
              "\n",
              "    .colab-df-convert {\n",
              "      background-color: #E8F0FE;\n",
              "      border: none;\n",
              "      border-radius: 50%;\n",
              "      cursor: pointer;\n",
              "      display: none;\n",
              "      fill: #1967D2;\n",
              "      height: 32px;\n",
              "      padding: 0 0 0 0;\n",
              "      width: 32px;\n",
              "    }\n",
              "\n",
              "    .colab-df-convert:hover {\n",
              "      background-color: #E2EBFA;\n",
              "      box-shadow: 0px 1px 2px rgba(60, 64, 67, 0.3), 0px 1px 3px 1px rgba(60, 64, 67, 0.15);\n",
              "      fill: #174EA6;\n",
              "    }\n",
              "\n",
              "    [theme=dark] .colab-df-convert {\n",
              "      background-color: #3B4455;\n",
              "      fill: #D2E3FC;\n",
              "    }\n",
              "\n",
              "    [theme=dark] .colab-df-convert:hover {\n",
              "      background-color: #434B5C;\n",
              "      box-shadow: 0px 1px 3px 1px rgba(0, 0, 0, 0.15);\n",
              "      filter: drop-shadow(0px 1px 2px rgba(0, 0, 0, 0.3));\n",
              "      fill: #FFFFFF;\n",
              "    }\n",
              "  </style>\n",
              "\n",
              "      <script>\n",
              "        const buttonEl =\n",
              "          document.querySelector('#df-ac2de351-23d1-456a-8781-33e333871555 button.colab-df-convert');\n",
              "        buttonEl.style.display =\n",
              "          google.colab.kernel.accessAllowed ? 'block' : 'none';\n",
              "\n",
              "        async function convertToInteractive(key) {\n",
              "          const element = document.querySelector('#df-ac2de351-23d1-456a-8781-33e333871555');\n",
              "          const dataTable =\n",
              "            await google.colab.kernel.invokeFunction('convertToInteractive',\n",
              "                                                     [key], {});\n",
              "          if (!dataTable) return;\n",
              "\n",
              "          const docLinkHtml = 'Like what you see? Visit the ' +\n",
              "            '<a target=\"_blank\" href=https://colab.research.google.com/notebooks/data_table.ipynb>data table notebook</a>'\n",
              "            + ' to learn more about interactive tables.';\n",
              "          element.innerHTML = '';\n",
              "          dataTable['output_type'] = 'display_data';\n",
              "          await google.colab.output.renderOutput(dataTable, element);\n",
              "          const docLink = document.createElement('div');\n",
              "          docLink.innerHTML = docLinkHtml;\n",
              "          element.appendChild(docLink);\n",
              "        }\n",
              "      </script>\n",
              "    </div>\n",
              "  </div>\n",
              "  "
            ]
          },
          "metadata": {},
          "execution_count": 88
        }
      ],
      "source": [
        "#creating dataset\n",
        "import pandas as pd\n",
        "df= pd.read_csv('/content/milkquality.csv')\n",
        "df"
      ]
    },
    {
      "cell_type": "code",
      "source": [
        "df.info()"
      ],
      "metadata": {
        "colab": {
          "base_uri": "https://localhost:8080/"
        },
        "id": "TXdfsr3tNENC",
        "outputId": "476fe527-de53-4252-dfff-1bcb895b8bd8"
      },
      "execution_count": 89,
      "outputs": [
        {
          "output_type": "stream",
          "name": "stdout",
          "text": [
            "<class 'pandas.core.frame.DataFrame'>\n",
            "RangeIndex: 1059 entries, 0 to 1058\n",
            "Data columns (total 8 columns):\n",
            " #   Column      Non-Null Count  Dtype  \n",
            "---  ------      --------------  -----  \n",
            " 0   pH          1059 non-null   float64\n",
            " 1   Temprature  1059 non-null   int64  \n",
            " 2   Taste       1059 non-null   int64  \n",
            " 3   Odor        1059 non-null   int64  \n",
            " 4   Fat         1059 non-null   int64  \n",
            " 5   Turbidity   1059 non-null   int64  \n",
            " 6   Colour      1059 non-null   int64  \n",
            " 7   Grade       1059 non-null   object \n",
            "dtypes: float64(1), int64(6), object(1)\n",
            "memory usage: 66.3+ KB\n"
          ]
        }
      ]
    },
    {
      "cell_type": "code",
      "source": [
        "#seperating values into input and output values\n",
        "x= df.iloc[:600, 0:7].values\n",
        "y= df.iloc[:600, 7].values"
      ],
      "metadata": {
        "id": "eUSRifYINQbS"
      },
      "execution_count": 90,
      "outputs": []
    },
    {
      "cell_type": "code",
      "source": [
        "#training and testing data\n",
        "from sklearn.model_selection import train_test_split\n",
        "x_train, x_test, y_train, y_test= train_test_split(x,y, random_state=0)"
      ],
      "metadata": {
        "id": "IlH7qAg1Nhl5"
      },
      "execution_count": 91,
      "outputs": []
    },
    {
      "cell_type": "code",
      "source": [
        "#normalising input values\n",
        "from sklearn.preprocessing import MinMaxScaler\n",
        "scaler= MinMaxScaler()\n",
        "x_train=scaler.fit_transform(x_train)\n",
        "x_test= scaler.fit_transform(x_test)"
      ],
      "metadata": {
        "id": "--iRH2p9Nr6X"
      },
      "execution_count": 92,
      "outputs": []
    },
    {
      "cell_type": "code",
      "source": [
        "#fitting the model\n",
        "from sklearn.linear_model import LogisticRegression\n",
        "model= LogisticRegression()\n",
        "model.fit(x_train,y_train)"
      ],
      "metadata": {
        "colab": {
          "base_uri": "https://localhost:8080/"
        },
        "id": "q4vcZ7OoN9Qd",
        "outputId": "f1c9cc43-66d2-4e2f-bb1b-6f7468eee150"
      },
      "execution_count": 93,
      "outputs": [
        {
          "output_type": "execute_result",
          "data": {
            "text/plain": [
              "LogisticRegression()"
            ]
          },
          "metadata": {},
          "execution_count": 93
        }
      ]
    },
    {
      "cell_type": "code",
      "source": [
        "#predicting using test data\n",
        "y_pred= model.predict(x_test)\n",
        "y_pred"
      ],
      "metadata": {
        "colab": {
          "base_uri": "https://localhost:8080/"
        },
        "id": "Z6ptUhsAOAFT",
        "outputId": "689b5345-fd62-461d-d078-1e4471e29381"
      },
      "execution_count": 94,
      "outputs": [
        {
          "output_type": "execute_result",
          "data": {
            "text/plain": [
              "array(['low', 'medium', 'low', 'high', 'high', 'medium', 'low', 'low',\n",
              "       'medium', 'low', 'high', 'medium', 'low', 'low', 'low', 'low',\n",
              "       'medium', 'high', 'high', 'medium', 'high', 'low', 'low', 'low',\n",
              "       'low', 'medium', 'high', 'medium', 'low', 'low', 'low', 'medium',\n",
              "       'low', 'low', 'medium', 'low', 'medium', 'high', 'high', 'low',\n",
              "       'high', 'low', 'high', 'low', 'medium', 'low', 'medium', 'low',\n",
              "       'low', 'low', 'low', 'medium', 'medium', 'high', 'high', 'medium',\n",
              "       'high', 'medium', 'low', 'medium', 'low', 'low', 'medium',\n",
              "       'medium', 'medium', 'low', 'low', 'high', 'medium', 'low', 'high',\n",
              "       'medium', 'high', 'low', 'low', 'medium', 'medium', 'high', 'low',\n",
              "       'high', 'low', 'low', 'low', 'low', 'low', 'high', 'low', 'low',\n",
              "       'low', 'medium', 'low', 'medium', 'low', 'low', 'low', 'medium',\n",
              "       'high', 'medium', 'low', 'medium', 'low', 'low', 'high', 'low',\n",
              "       'low', 'high', 'low', 'high', 'medium', 'medium', 'low', 'medium',\n",
              "       'low', 'medium', 'medium', 'high', 'low', 'low', 'low', 'high',\n",
              "       'low', 'medium', 'high', 'low', 'low', 'low', 'medium', 'medium',\n",
              "       'high', 'low', 'high', 'low', 'low', 'high', 'medium', 'low',\n",
              "       'high', 'low', 'medium', 'high', 'medium', 'medium', 'low', 'low',\n",
              "       'low', 'low', 'high', 'low', 'high', 'low'], dtype=object)"
            ]
          },
          "metadata": {},
          "execution_count": 94
        }
      ]
    },
    {
      "cell_type": "code",
      "source": [
        "#actual output data\n",
        "y_test"
      ],
      "metadata": {
        "colab": {
          "base_uri": "https://localhost:8080/"
        },
        "id": "AxmNAykUOE3N",
        "outputId": "c30f0996-8c03-43c2-bf2c-edc7719c5cb9"
      },
      "execution_count": 95,
      "outputs": [
        {
          "output_type": "execute_result",
          "data": {
            "text/plain": [
              "array(['high', 'medium', 'low', 'high', 'high', 'medium', 'low', 'low',\n",
              "       'medium', 'low', 'medium', 'medium', 'low', 'low', 'low', 'low',\n",
              "       'medium', 'high', 'medium', 'medium', 'high', 'low', 'low', 'low',\n",
              "       'high', 'medium', 'high', 'medium', 'low', 'low', 'medium',\n",
              "       'medium', 'low', 'high', 'medium', 'low', 'low', 'high', 'low',\n",
              "       'high', 'medium', 'low', 'medium', 'low', 'medium', 'low',\n",
              "       'medium', 'low', 'low', 'high', 'low', 'medium', 'medium',\n",
              "       'medium', 'high', 'medium', 'low', 'medium', 'low', 'medium',\n",
              "       'low', 'low', 'medium', 'medium', 'medium', 'high', 'high', 'high',\n",
              "       'medium', 'low', 'high', 'medium', 'low', 'medium', 'low',\n",
              "       'medium', 'medium', 'medium', 'low', 'high', 'low', 'low', 'low',\n",
              "       'low', 'low', 'high', 'low', 'low', 'high', 'medium', 'low',\n",
              "       'medium', 'high', 'low', 'low', 'medium', 'high', 'medium', 'low',\n",
              "       'medium', 'low', 'high', 'high', 'low', 'high', 'medium', 'low',\n",
              "       'high', 'medium', 'medium', 'high', 'medium', 'low', 'medium',\n",
              "       'medium', 'low', 'high', 'low', 'low', 'medium', 'low', 'medium',\n",
              "       'medium', 'low', 'low', 'high', 'medium', 'medium', 'high', 'low',\n",
              "       'low', 'low', 'low', 'high', 'medium', 'low', 'low', 'low',\n",
              "       'medium', 'high', 'medium', 'medium', 'low', 'high', 'low', 'low',\n",
              "       'high', 'low', 'low', 'low'], dtype=object)"
            ]
          },
          "metadata": {},
          "execution_count": 95
        }
      ]
    },
    {
      "cell_type": "code",
      "source": [
        "#checking accuracy of model\n",
        "from sklearn.metrics import accuracy_score\n",
        "accuracy_score(y_pred, y_test)*100"
      ],
      "metadata": {
        "colab": {
          "base_uri": "https://localhost:8080/"
        },
        "id": "R4hHbXB1OHnf",
        "outputId": "6c6d9115-9029-42be-d07f-f0ab35159c5a"
      },
      "execution_count": 96,
      "outputs": [
        {
          "output_type": "execute_result",
          "data": {
            "text/plain": [
              "77.33333333333333"
            ]
          },
          "metadata": {},
          "execution_count": 96
        }
      ]
    },
    {
      "cell_type": "code",
      "source": [
        "#individual prediction\n",
        "model.predict([[9.5,\t34,\t1,\t1,\t0,\t1,\t255\t]])"
      ],
      "metadata": {
        "colab": {
          "base_uri": "https://localhost:8080/"
        },
        "id": "Ep25LsmFOMua",
        "outputId": "bc1ffd5c-d561-475e-f629-c9464037c00f"
      },
      "execution_count": 97,
      "outputs": [
        {
          "output_type": "execute_result",
          "data": {
            "text/plain": [
              "array(['low'], dtype=object)"
            ]
          },
          "metadata": {},
          "execution_count": 97
        }
      ]
    },
    {
      "cell_type": "code",
      "source": [
        "#End of notebook"
      ],
      "metadata": {
        "id": "fOF0VbhcOW8H"
      },
      "execution_count": 98,
      "outputs": []
    }
  ]
}